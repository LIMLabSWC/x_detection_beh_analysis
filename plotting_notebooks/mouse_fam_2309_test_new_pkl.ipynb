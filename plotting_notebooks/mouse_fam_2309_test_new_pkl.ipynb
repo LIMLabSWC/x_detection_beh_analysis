{
 "cells": [
  {
   "cell_type": "code",
   "execution_count": 4,
   "metadata": {
    "collapsed": true
   },
   "outputs": [],
   "source": [
    "import sys\n",
    "\n",
    "sys.path.append(\"..\")\n",
    "# sys.path.append(\"..\")\n",
    "from matplotlib import cm, use\n",
    "import math\n",
    "import time\n",
    "from pupil_analysis_func import Main\n",
    "import matplotlib.pyplot as plt\n",
    "import numpy as np\n",
    "import pandas as pd\n",
    "import os\n",
    "import analysis_utils as utils\n",
    "from copy import deepcopy as copy\n",
    "from behaviour_analysis import TDAnalysis\n",
    "import math\n",
    "import pickle\n",
    "from datetime import datetime, timedelta\n",
    "from scipy.signal import find_peaks, find_peaks_cwt\n",
    "from scipy.stats import sem\n",
    "from pupil_analysis_func import batch_analysis, plot_traces, get_subset, glm_from_baseline, PupilEventConditions\n",
    "from plotting_functions import plot_sound_vbars, plot_ts_var, FigureObj\n",
    "from pathlib import Path"
   ]
  },
  {
   "cell_type": "code",
   "execution_count": 5,
   "outputs": [],
   "source": [
    "plt.ioff()\n",
    "paradigm = ['familiarity']\n",
    "pkldir = r'D:\\bonsai\\offline_data'\n",
    "pkl2use = os.path.join(pkldir,'mouse_hf_2309_batch_w_canny_DEC_dates_fam_2d_90Hz_hpass01_lpass4hanning025_TOM.pkl')\n",
    "run = Main(pkl2use, (-1.0, 3.0), figdir=rf'figures',fig_ow=False)\n",
    "pmetric2use = ['diameter_2d_zscored','dlc_radii_a_zscored','dlc_EW_zscored','dlc_EW_normed']\n",
    "\n",
    "do_baseline = True  # 'rawsize' not in pkl2use\n",
    "run.add_pretone_dt()\n",
    "run.aligned = {}\n",
    "align_pnts = ['ToneTime','Reward','Gap_Time']\n",
    "\n",
    "animals2plot = run.labels\n",
    "dates2plot = run.dates\n",
    "stages = [3]\n",
    "run.add_stage3_05_order()\n",
    "run.add_rolling_mean('Tone_Position',10)\n",
    "dateconds = run.dates\n",
    "run.add_diff_col_dt('Trial_Outcome')"
   ],
   "metadata": {
    "collapsed": false
   }
  },
  {
   "cell_type": "code",
   "execution_count": 6,
   "outputs": [
    {
     "name": "stderr",
     "output_type": "stream",
     "text": [
      "processing condition key:   0%|          | 0/2 [00:00<?, ?it/s]"
     ]
    },
    {
     "name": "stdout",
     "output_type": "stream",
     "text": [
      "none filts = ['c1', 'stage3']\n",
      "[0, 0, 0, 0]\n"
     ]
    },
    {
     "name": "stderr",
     "output_type": "stream",
     "text": [
      "\n",
      "  0%|          | 0/78 [00:00<?, ?it/s]\u001B[A\n",
      "  1%|▏         | 1/78 [00:07<09:22,  7.31s/it]\u001B[A\n",
      "  3%|▎         | 2/78 [00:07<04:10,  3.30s/it]\u001B[A\n",
      "  8%|▊         | 6/78 [00:08<01:05,  1.10it/s]\u001B[A\n",
      " 13%|█▎        | 10/78 [00:09<00:33,  2.05it/s]\u001B[A\n",
      " 17%|█▋        | 13/78 [00:09<00:23,  2.76it/s]\u001B[A\n",
      " 18%|█▊        | 14/78 [00:14<01:02,  1.02it/s]\u001B[A\n",
      " 38%|███▊      | 30/78 [00:16<00:17,  2.78it/s]\u001B[A\n",
      " 41%|████      | 32/78 [00:17<00:17,  2.64it/s]\u001B[A\n",
      " 42%|████▏     | 33/78 [00:19<00:20,  2.20it/s]\u001B[A\n",
      " 45%|████▍     | 35/78 [00:20<00:19,  2.21it/s]\u001B[A\n",
      " 55%|█████▌    | 43/78 [00:20<00:07,  4.39it/s]\u001B[A\n",
      " 59%|█████▉    | 46/78 [00:21<00:09,  3.50it/s]\u001B[A\n",
      " 63%|██████▎   | 49/78 [00:23<00:10,  2.84it/s]\u001B[A\n",
      " 65%|██████▌   | 51/78 [00:23<00:08,  3.01it/s]\u001B[A\n",
      " 68%|██████▊   | 53/78 [00:25<00:10,  2.38it/s]\u001B[A\n",
      " 69%|██████▉   | 54/78 [00:25<00:10,  2.40it/s]\u001B[A\n",
      " 74%|███████▍  | 58/78 [00:26<00:07,  2.82it/s]\u001B[A\n",
      " 76%|███████▌  | 59/78 [00:27<00:07,  2.57it/s]\u001B[A\n",
      " 81%|████████  | 63/78 [00:27<00:03,  4.17it/s]\u001B[A\n",
      " 82%|████████▏ | 64/78 [00:27<00:03,  4.36it/s]\u001B[A\n",
      " 83%|████████▎ | 65/78 [00:28<00:03,  4.30it/s]\u001B[A\n",
      " 87%|████████▋ | 68/78 [00:28<00:01,  6.57it/s]\u001B[A\n",
      " 90%|████████▉ | 70/78 [00:30<00:04,  1.97it/s]\u001B[A\n",
      " 94%|█████████▎| 73/78 [00:31<00:01,  2.84it/s]\u001B[A\n",
      "100%|██████████| 78/78 [00:33<00:00,  2.34it/s]\u001B[A\n",
      "\n",
      "100%|██████████| 78/78 [00:00<?, ?it/s][A\n",
      "processing condition key:  50%|█████     | 1/2 [00:34<00:34, 34.80s/it]"
     ]
    },
    {
     "name": "stdout",
     "output_type": "stream",
     "text": [
      "none filts = ['c1', 'stage3']\n",
      "[0, 0, 0, 0, 0, 0]\n"
     ]
    },
    {
     "name": "stderr",
     "output_type": "stream",
     "text": [
      "\n",
      "  0%|          | 0/78 [00:00<?, ?it/s]\u001B[A\n",
      "  1%|▏         | 1/78 [00:06<08:31,  6.64s/it]\u001B[A\n",
      "  3%|▎         | 2/78 [00:06<03:41,  2.92s/it]\u001B[A\n",
      "  8%|▊         | 6/78 [00:08<01:04,  1.12it/s]\u001B[A\n",
      " 13%|█▎        | 10/78 [00:08<00:36,  1.86it/s]\u001B[A\n",
      " 17%|█▋        | 13/78 [00:09<00:23,  2.78it/s]\u001B[A\n",
      " 19%|█▉        | 15/78 [00:14<00:56,  1.11it/s]\u001B[A\n",
      " 38%|███▊      | 30/78 [00:16<00:17,  2.70it/s]\u001B[A\n",
      " 41%|████      | 32/78 [00:17<00:17,  2.56it/s]\u001B[A\n",
      " 42%|████▏     | 33/78 [00:19<00:21,  2.06it/s]\u001B[A\n",
      " 45%|████▍     | 35/78 [00:20<00:21,  2.00it/s]\u001B[A\n",
      " 58%|█████▊    | 45/78 [00:21<00:08,  3.80it/s]\u001B[A\n",
      " 59%|█████▉    | 46/78 [00:21<00:09,  3.52it/s]\u001B[A\n",
      " 63%|██████▎   | 49/78 [00:23<00:11,  2.62it/s]\u001B[A\n",
      " 68%|██████▊   | 53/78 [00:25<00:10,  2.42it/s]\u001B[A\n",
      " 69%|██████▉   | 54/78 [00:26<00:09,  2.47it/s]\u001B[A\n",
      " 74%|███████▍  | 58/78 [00:27<00:06,  3.01it/s]\u001B[A\n",
      " 76%|███████▌  | 59/78 [00:27<00:06,  3.07it/s]\u001B[A\n",
      " 81%|████████  | 63/78 [00:28<00:04,  3.36it/s]\u001B[A\n",
      " 83%|████████▎ | 65/78 [00:28<00:03,  4.10it/s]\u001B[A\n",
      " 88%|████████▊ | 69/78 [00:31<00:04,  2.21it/s]\u001B[A\n",
      "100%|██████████| 78/78 [00:33<00:00,  2.32it/s]\u001B[A\n",
      "\n",
      "100%|██████████| 78/78 [00:00<00:00, 75052.93it/s]\n",
      "processing condition key: 100%|██████████| 2/2 [01:10<00:00, 35.03s/it]\n",
      "processing condition key:   0%|          | 0/2 [00:00<?, ?it/s]"
     ]
    },
    {
     "name": "stdout",
     "output_type": "stream",
     "text": [
      "none filts = ['c1', 'stage3']\n",
      "[0, 0, 0, 0]\n"
     ]
    },
    {
     "name": "stderr",
     "output_type": "stream",
     "text": [
      "\n",
      "  0%|          | 0/78 [00:00<?, ?it/s]\u001B[A\n",
      "  1%|▏         | 1/78 [00:06<08:25,  6.57s/it]\u001B[A\n",
      "  3%|▎         | 2/78 [00:06<03:41,  2.92s/it]\u001B[A\n",
      "  8%|▊         | 6/78 [00:08<01:05,  1.10it/s]\u001B[A\n",
      " 13%|█▎        | 10/78 [00:08<00:35,  1.92it/s]\u001B[A\n",
      " 17%|█▋        | 13/78 [00:08<00:22,  2.85it/s]\u001B[A\n",
      " 18%|█▊        | 14/78 [00:13<01:01,  1.04it/s]\u001B[A\n",
      " 38%|███▊      | 30/78 [00:16<00:16,  2.87it/s]\u001B[A\n",
      " 41%|████      | 32/78 [00:17<00:17,  2.70it/s]\u001B[A\n",
      " 42%|████▏     | 33/78 [00:18<00:19,  2.26it/s]\u001B[A\n",
      " 45%|████▍     | 35/78 [00:19<00:20,  2.15it/s]\u001B[A\n",
      " 55%|█████▌    | 43/78 [00:20<00:09,  3.55it/s]\u001B[A\n",
      " 58%|█████▊    | 45/78 [00:21<00:10,  3.11it/s]\u001B[A\n",
      " 63%|██████▎   | 49/78 [00:23<00:10,  2.80it/s]\u001B[A\n",
      " 65%|██████▌   | 51/78 [00:23<00:08,  3.12it/s]\u001B[A\n",
      " 68%|██████▊   | 53/78 [00:24<00:09,  2.63it/s]\u001B[A\n",
      " 69%|██████▉   | 54/78 [00:25<00:09,  2.44it/s]\u001B[A\n",
      " 74%|███████▍  | 58/78 [00:26<00:07,  2.75it/s]\u001B[A\n",
      " 76%|███████▌  | 59/78 [00:27<00:07,  2.54it/s]\u001B[A\n",
      " 81%|████████  | 63/78 [00:27<00:04,  3.47it/s]\u001B[A\n",
      " 88%|████████▊ | 69/78 [00:30<00:03,  2.72it/s]\u001B[A\n",
      " 90%|████████▉ | 70/78 [00:30<00:02,  2.80it/s]\u001B[A\n",
      "100%|██████████| 78/78 [00:33<00:00,  2.36it/s]\u001B[A\n",
      "\n",
      "100%|██████████| 78/78 [00:00<00:00, 38988.88it/s]\n",
      "processing condition key:  50%|█████     | 1/2 [00:34<00:34, 34.57s/it]"
     ]
    },
    {
     "name": "stdout",
     "output_type": "stream",
     "text": [
      "none filts = ['c1', 'stage3']\n",
      "[0, 0, 0, 0, 0, 0]\n"
     ]
    },
    {
     "name": "stderr",
     "output_type": "stream",
     "text": [
      "\n",
      "  0%|          | 0/78 [00:00<?, ?it/s]\u001B[A\n",
      "  1%|▏         | 1/78 [00:06<08:43,  6.80s/it]\u001B[A\n",
      "  3%|▎         | 2/78 [00:06<03:39,  2.89s/it]\u001B[A\n",
      "  6%|▋         | 5/78 [00:07<01:03,  1.15it/s]\u001B[A\n",
      "  8%|▊         | 6/78 [00:08<01:09,  1.04it/s]\u001B[A\n",
      " 13%|█▎        | 10/78 [00:09<00:34,  1.95it/s]\u001B[A\n",
      " 18%|█▊        | 14/78 [00:14<00:55,  1.16it/s]\u001B[A\n",
      " 38%|███▊      | 30/78 [00:17<00:17,  2.77it/s]\u001B[A\n",
      " 41%|████      | 32/78 [00:17<00:16,  2.86it/s]\u001B[A\n",
      " 42%|████▏     | 33/78 [00:19<00:20,  2.22it/s]\u001B[A\n",
      " 45%|████▍     | 35/78 [00:20<00:20,  2.07it/s]\u001B[A\n",
      " 58%|█████▊    | 45/78 [00:21<00:09,  3.61it/s]\u001B[A\n",
      " 59%|█████▉    | 46/78 [00:21<00:08,  3.75it/s]\u001B[A\n",
      " 60%|██████    | 47/78 [00:22<00:08,  3.50it/s]\u001B[A\n",
      " 63%|██████▎   | 49/78 [00:24<00:12,  2.36it/s]\u001B[A\n",
      " 68%|██████▊   | 53/78 [00:25<00:10,  2.45it/s]\u001B[A\n",
      " 69%|██████▉   | 54/78 [00:26<00:10,  2.34it/s]\u001B[A\n",
      " 74%|███████▍  | 58/78 [00:27<00:07,  2.83it/s]\u001B[A\n",
      " 76%|███████▌  | 59/78 [00:27<00:07,  2.69it/s]\u001B[A\n",
      " 81%|████████  | 63/78 [00:28<00:04,  3.34it/s]\u001B[A\n",
      " 88%|████████▊ | 69/78 [00:31<00:03,  2.53it/s]\u001B[A\n",
      "100%|██████████| 78/78 [00:33<00:00,  2.31it/s]\u001B[A\n",
      "\n",
      "100%|██████████| 78/78 [00:00<00:00, 78042.87it/s]\n",
      "processing condition key: 100%|██████████| 2/2 [01:09<00:00, 34.91s/it]\n"
     ]
    }
   ],
   "source": [
    "condition_keys = ['p_rate','p_rate_local']\n",
    "condition_keys_canny = [f'{e}_canny' for e in condition_keys]\n",
    "# aligned_pklfile = r'pickles\\fm_fam_aligned_nohpass.pkl'\n",
    "# aligned_pklfile = r'pickles\\DO54_62_aligned_notrend.pkl'\n",
    "# aligned_pklfile = r'mouse_hf_2305_batch_no_canny_fam_hpass015.pkl'\n",
    "# aligned_pklfile = r'mouse_hf_2309_batch_w_canny_fam_hpass01.pkl'\n",
    "aligned_pklfile = r'mouse_hf_2309_batch_DEC_dates_w_canny_fam_hpass01_align.pkl'\n",
    "# aligned_pklfile = r'C:\\bonsai\\gd_analysis\\pickles\\normdev_2305cohort_aligned.pkl'\n",
    "aligned_ow = False\n",
    "conditions_class = PupilEventConditions()\n",
    "list_cond_filts = conditions_class.all_filts\n",
    "for sess in run.data:\n",
    "    run.data[sess].trialData['Offset'] = run.data[sess].trialData['Offset'].astype(float) + 0.0\n",
    "if os.path.isfile(aligned_pklfile) and aligned_ow is False:\n",
    "    with open(aligned_pklfile,'rb') as pklfile:\n",
    "        run.aligned = pickle.load(pklfile)\n",
    "        keys = [[e] for e in run.aligned.keys()]\n",
    "else:\n",
    "    conditions_class.get_condition_dict(run, condition_keys,stages,)  # 'a1'\n",
    "    conditions_class.get_condition_dict(run, condition_keys, stages,\n",
    "                                        pmetric2use='canny_raddi_a_zscored', key_suffix='_canny')"
   ],
   "metadata": {
    "collapsed": false
   }
  },
  {
   "cell_type": "code",
   "execution_count": 7,
   "outputs": [],
   "source": [
    "fig1 = FigureObj()\n",
    "plt.close('all')"
   ],
   "metadata": {
    "collapsed": false
   }
  },
  {
   "cell_type": "code",
   "execution_count": 8,
   "outputs": [],
   "source": [
    "fig1 = FigureObj()"
   ],
   "metadata": {
    "collapsed": false
   }
  },
  {
   "cell_type": "code",
   "execution_count": 9,
   "outputs": [
    {
     "name": "stdout",
     "output_type": "stream",
     "text": [
      "length input lists 3\n",
      "length input lists 3\n",
      "length input lists 3\n"
     ]
    }
   ],
   "source": [
    "p_rate_dates=run.dates\n",
    "# prate_muscimol_dates = ['230918','230920','230927','230929','231002','231030','231103']\n",
    "prate_muscimol_dates = ['230918','230920','230927','230929','231002','231030','231103',\n",
    "                        '231128','231201','231206']\n",
    "# prate_saline_dates = ['230928','231024','231027','231102']\n",
    "prate_saline_dates = ['230928','231024','231027','231102','231204']\n",
    "prate_control_dates = [d for d in p_rate_dates if d not in prate_muscimol_dates+prate_saline_dates]\n",
    "prate_control_dates = [d for d in prate_control_dates if all(int(d) - np.array(prate_muscimol_dates).astype(int) != -1)]\n",
    "# prate_control_dates.remove('231031')\n",
    "muscimol_analysis_dfs = []\n",
    "for subset_ix, (subset_dates,subset_name) in enumerate(zip([prate_muscimol_dates,prate_control_dates,prate_saline_dates],\n",
    "                                                           ['muscimol', 'control','saline'])):\n",
    "    run.subsets[f'{subset_name}_2patt'] = get_subset(run, run.aligned, 'p_rate_local_canny',{'date':subset_dates,'name':['DO71','DO72','DO75']},\n",
    "                                                     events=list_cond_filts['p_rate_local'][1],\n",
    "                                                     beh=f'{align_pnts[0]} onset',\n",
    "                                                     plttitle=f'Response to pattern onset {subset_name}',\n",
    "                                                     plttype='ts',\n",
    "                                                     ylabel='zscored pupil size',\n",
    "                                                     xlabel=f'Time since pattern onset (s)',\n",
    "                                                     exclude_idx=(1, 2, 3),\n",
    "                                                     alt_cond_names=['rare','frequent','none']\n",
    "                                                     )\n",
    "    muscimol_analysis_dfs.append(run.subsets[f'{subset_name}_2patt'][2])"
   ],
   "metadata": {
    "collapsed": false
   }
  },
  {
   "cell_type": "code",
   "execution_count": 10,
   "outputs": [
    {
     "name": "stdout",
     "output_type": "stream",
     "text": [
      "['230913', '230914', '230915', '231023', '231025', '231031']\n"
     ]
    }
   ],
   "source": [
    "print(prate_control_dates)"
   ],
   "metadata": {
    "collapsed": false
   }
  },
  {
   "cell_type": "code",
   "execution_count": 29,
   "outputs": [],
   "source": [
    "drug_df_dicts = []\n",
    "for subset_name in ['muscimol', 'control','saline']:\n",
    "    dfss = []\n",
    "    for df, cond in zip(run.subsets[f'{subset_name}_2patt'][2],['rare','frequent']):\n",
    "        # print(df.description)\n",
    "        df = df.copy()\n",
    "        df.columns = np.round(np.linspace(-1,2.99,400),2)\n",
    "        sessname_idx = df.index.to_frame()\n",
    "        sessname_idx = sessname_idx.apply(lambda row: f'{row[1]}_{row[2]}',axis=1)\n",
    "        trial_times = sessname_idx.index.get_level_values('time').to_series().apply(lambda x: x.timestamp())/1e3\n",
    "        df.index = pd.MultiIndex.from_arrays([trial_times,sessname_idx.reset_index(drop=False).index.values,sessname_idx],\n",
    "                                             names=['time','trial','sess'])\n",
    "        dfss.append(df)\n",
    "    df_dict = {cond: cond_df for cond, cond_df in zip(['rare','frequent'],dfss)}\n",
    "    drug_df_dicts.append(copy(df_dict))\n",
    "by_cond_df = {cond:pd.concat([subset_dict[cond] for subset_dict in drug_df_dicts]) for cond in ['rare','frequent']}\n",
    "pkl_path = r'X:\\Dammy\\pupil_data\\musc_sept23_A_by_cond.pkl'\n",
    "with open(pkl_path,'wb') as pklfile:\n",
    "    pickle.dump(by_cond_df,pklfile)"
   ],
   "metadata": {
    "collapsed": false
   }
  },
  {
   "cell_type": "code",
   "execution_count": 12,
   "outputs": [
    {
     "data": {
      "text/plain": "array([-1.  , -0.99, -0.98, -0.97, -0.96, -0.95, -0.94, -0.93, -0.92,\n       -0.91, -0.9 , -0.89, -0.88, -0.87, -0.86, -0.85, -0.84, -0.83,\n       -0.82, -0.81, -0.8 , -0.79, -0.78, -0.77, -0.76, -0.75, -0.74,\n       -0.73, -0.72, -0.71, -0.7 , -0.69, -0.68, -0.67, -0.66, -0.65,\n       -0.64, -0.63, -0.62, -0.61, -0.6 , -0.59, -0.58, -0.57, -0.56,\n       -0.55, -0.54, -0.53, -0.52, -0.51, -0.5 , -0.49, -0.48, -0.47,\n       -0.46, -0.45, -0.44, -0.43, -0.42, -0.41, -0.4 , -0.39, -0.38,\n       -0.37, -0.36, -0.35, -0.34, -0.33, -0.32, -0.31, -0.3 , -0.29,\n       -0.28, -0.27, -0.26, -0.25, -0.24, -0.23, -0.22, -0.21, -0.2 ,\n       -0.19, -0.18, -0.17, -0.16, -0.15, -0.14, -0.13, -0.12, -0.11,\n       -0.1 , -0.09, -0.08, -0.07, -0.06, -0.05, -0.04, -0.03, -0.02,\n       -0.01,  0.  ,  0.01,  0.02,  0.03,  0.04,  0.05,  0.06,  0.07,\n        0.08,  0.09,  0.1 ,  0.11,  0.12,  0.13,  0.14,  0.15,  0.16,\n        0.17,  0.18,  0.19,  0.2 ,  0.21,  0.22,  0.23,  0.24,  0.25,\n        0.26,  0.27,  0.28,  0.29,  0.3 ,  0.31,  0.32,  0.33,  0.34,\n        0.35,  0.36,  0.37,  0.38,  0.39,  0.4 ,  0.41,  0.42,  0.43,\n        0.44,  0.45,  0.46,  0.47,  0.48,  0.49,  0.5 ,  0.51,  0.52,\n        0.53,  0.54,  0.55,  0.56,  0.57,  0.58,  0.59,  0.6 ,  0.61,\n        0.62,  0.63,  0.64,  0.65,  0.66,  0.67,  0.68,  0.69,  0.7 ,\n        0.71,  0.72,  0.73,  0.74,  0.75,  0.76,  0.77,  0.78,  0.79,\n        0.8 ,  0.81,  0.82,  0.83,  0.84,  0.85,  0.86,  0.87,  0.88,\n        0.89,  0.9 ,  0.91,  0.92,  0.93,  0.94,  0.95,  0.96,  0.97,\n        0.98,  0.99,  1.  ,  1.01,  1.02,  1.03,  1.04,  1.05,  1.06,\n        1.07,  1.08,  1.09,  1.1 ,  1.11,  1.12,  1.13,  1.14,  1.15,\n        1.16,  1.17,  1.18,  1.19,  1.2 ,  1.21,  1.22,  1.23,  1.24,\n        1.25,  1.26,  1.27,  1.28,  1.29,  1.3 ,  1.31,  1.32,  1.33,\n        1.34,  1.35,  1.36,  1.37,  1.38,  1.39,  1.4 ,  1.41,  1.42,\n        1.43,  1.44,  1.45,  1.46,  1.47,  1.48,  1.49,  1.5 ,  1.51,\n        1.52,  1.53,  1.54,  1.55,  1.56,  1.57,  1.58,  1.59,  1.6 ,\n        1.61,  1.62,  1.63,  1.64,  1.65,  1.66,  1.67,  1.68,  1.69,\n        1.7 ,  1.71,  1.72,  1.73,  1.74,  1.75,  1.76,  1.77,  1.78,\n        1.79,  1.8 ,  1.81,  1.82,  1.83,  1.84,  1.85,  1.86,  1.87,\n        1.88,  1.89,  1.9 ,  1.91,  1.92,  1.93,  1.94,  1.95,  1.96,\n        1.97,  1.98,  1.99,  2.  ,  2.01,  2.02,  2.03,  2.04,  2.05,\n        2.06,  2.07,  2.08,  2.09,  2.1 ,  2.11,  2.12,  2.13,  2.14,\n        2.15,  2.16,  2.17,  2.18,  2.19,  2.2 ,  2.21,  2.22,  2.23,\n        2.24,  2.25,  2.26,  2.27,  2.28,  2.29,  2.3 ,  2.31,  2.32,\n        2.33,  2.34,  2.35,  2.36,  2.37,  2.38,  2.39,  2.4 ,  2.41,\n        2.42,  2.43,  2.44,  2.45,  2.46,  2.47,  2.48,  2.49,  2.5 ,\n        2.51,  2.52,  2.53,  2.54,  2.55,  2.56,  2.57,  2.58,  2.59,\n        2.6 ,  2.61,  2.62,  2.63,  2.64,  2.65,  2.66,  2.67,  2.68,\n        2.69,  2.7 ,  2.71,  2.72,  2.73,  2.74,  2.75,  2.76,  2.77,\n        2.78,  2.79,  2.8 ,  2.81,  2.82,  2.83,  2.84,  2.85,  2.86,\n        2.87,  2.88,  2.89,  2.9 ,  2.91,  2.92,  2.93,  2.94,  2.95,\n        2.96,  2.97,  2.98,  2.99])"
     },
     "execution_count": 12,
     "metadata": {},
     "output_type": "execute_result"
    }
   ],
   "source": [
    "np.round(np.linspace(-1,2.99,400\n",
    "        ),2\n",
    "        )"
   ],
   "metadata": {
    "collapsed": false
   }
  },
  {
   "cell_type": "code",
   "execution_count": 30,
   "outputs": [],
   "source": [
    "musc_sal_ctrl_tsplot = plt.subplots(figsize=(9,7))\n",
    "rare_freq_delta_tsplot = plt.subplots(figsize=(9,7))\n",
    "delta_dfsss = []\n",
    "for cond_i, (cond_dfs,cond_name,ls) in enumerate(zip(muscimol_analysis_dfs,['muscimol','control',],['-','--',':'])):\n",
    "    rare_df, freq_df, none_df = copy(cond_dfs)\n",
    "    none_df.index = none_df.index.droplevel('time')\n",
    "    for df_i, (df,df_name) in enumerate(zip([rare_df,freq_df],['rare','frequent'])):\n",
    "        df.index = df.index.droplevel('time')\n",
    "        # for u_idx in df.index.unique():\n",
    "            # df.loc[u_idx] = df.loc[u_idx] - none_df.loc[u_idx].median(axis=0)\n",
    "        musc_sal_ctrl_tsplot[1].plot(none_df.columns, df.mean(axis=0),\n",
    "                                     c=f'C{df_i}',ls=ls,label=f'{cond_name}: {df_name}')\n",
    "    delta_dfs = np.array([rare_df.loc[u_idx].mean(axis=0)-freq_df.loc[u_idx].mean(axis=0) for u_idx in rare_df.index.unique() if u_idx in freq_df.index])\n",
    "    delta_dfsss.append(delta_dfs)\n",
    "    # delta_means = [(rare_df.loc[u_idx]-freq_df.loc[u_idx]).mean(axis=0) for u_idx in rare_df.index.unique() if u_idx in freq_df.index]\n",
    "    rare_freq_delta_tsplot[1].plot(none_df.columns, delta_dfs.mean(axis=0),\n",
    "                                   label=f'{cond_name}',c='black',ls=ls)\n",
    "    # plot_ts_var(none_df.columns,np.array(delta_dfs),f'black',rare_freq_delta_tsplot[1])\n",
    "    delta_sem = sem(delta_dfs,axis=0,nan_policy='omit')\n",
    "    rare_freq_delta_tsplot[1].fill_between(none_df.columns,delta_dfs.mean(axis=0)-delta_sem,delta_dfs.mean(axis=0)+delta_sem,\n",
    "                                           fc='k', alpha=0.1)"
   ],
   "metadata": {
    "collapsed": false
   }
  },
  {
   "cell_type": "code",
   "execution_count": 39,
   "outputs": [],
   "source": [],
   "metadata": {
    "collapsed": false
   }
  },
  {
   "cell_type": "code",
   "execution_count": 33,
   "outputs": [
    {
     "data": {
      "text/plain": "[None, None]"
     },
     "execution_count": 33,
     "metadata": {},
     "output_type": "execute_result"
    }
   ],
   "source": [
    "savedir = Path(r'X:\\Dammy\\pupil_data')\n",
    "[np.save(savedir/tag,arr) for arr,tag in zip(delta_dfsss,['sept_musc.npy','sept_control.npy'])]"
   ],
   "metadata": {
    "collapsed": false
   }
  },
  {
   "cell_type": "code",
   "execution_count": 28,
   "outputs": [
    {
     "name": "stdout",
     "output_type": "stream",
     "text": [
      "Index(['230918', '230920', '230927', '230929', '231002', '231128', '231206',\n",
      "       '231030', '231103', '231201'],\n",
      "      dtype='object', name='date')\n",
      "Index(['230913', '230914', '230915', '231025', '231023', '231031'], dtype='object', name='date')\n",
      "Index(['230928', '231024', '231027', '231204', '231102'], dtype='object', name='date')\n"
     ]
    }
   ],
   "source": [
    "print(muscimol_analysis_dfs[0][0].index.get_level_values('date').unique())\n",
    "print(muscimol_analysis_dfs[1][0].index.get_level_values('date').unique())\n",
    "print(muscimol_analysis_dfs[2][0].index.get_level_values('date').unique())"
   ],
   "metadata": {
    "collapsed": false
   }
  },
  {
   "cell_type": "code",
   "execution_count": 14,
   "outputs": [],
   "source": [
    "figdir = Path(r'C:\\Users\\Danny\\OneDrive - University College London\\for_cosyne')"
   ],
   "metadata": {
    "collapsed": false
   }
  },
  {
   "cell_type": "code",
   "execution_count": 15,
   "outputs": [],
   "source": [
    "rare_freq_delta_tsplot[1].legend()\n",
    "[rare_freq_delta_tsplot[1].axvspan(t,t+0.15,fc='k',alpha=0.1) for t in np.arange(0,1,.25)]\n",
    "rare_freq_delta_tsplot[1].set_ylabel('rare response - frequent response')\n",
    "rare_freq_delta_tsplot[1].set_xlabel('Time since pattern onset (s)')\n",
    "rare_freq_delta_tsplot[1].axvline(0,c='k',ls='--')\n",
    "rare_freq_delta_tsplot[0].set_constrained_layout('constrained')\n",
    "# rare_freq_delta_tsplot[0].show()\n",
    "rare_freq_delta_tsplot[0].set_size_inches(9,7)\n",
    "\n",
    "rare_freq_delta_tsplot[0].savefig(figdir/'rare_freq_delta_ts.svg')\n"
   ],
   "metadata": {
    "collapsed": false
   }
  },
  {
   "cell_type": "code",
   "execution_count": 16,
   "outputs": [],
   "source": [
    "run.subsets['muscimol_2patt'][0].set_size_inches(9,7)"
   ],
   "metadata": {
    "collapsed": false
   }
  },
  {
   "cell_type": "code",
   "execution_count": 17,
   "outputs": [],
   "source": [
    "run.subsets['muscimol_2patt'][1].set_title('')\n",
    "run.subsets['muscimol_2patt'][0].set_constrained_layout('constrained')\n",
    "run.subsets['muscimol_2patt'][0].savefig(figdir/'muscimol_2patt.svg')"
   ],
   "metadata": {
    "collapsed": false
   }
  }
 ],
 "metadata": {
  "kernelspec": {
   "display_name": "Python 3",
   "language": "python",
   "name": "python3"
  },
  "language_info": {
   "codemirror_mode": {
    "name": "ipython",
    "version": 2
   },
   "file_extension": ".py",
   "mimetype": "text/x-python",
   "name": "python",
   "nbconvert_exporter": "python",
   "pygments_lexer": "ipython2",
   "version": "2.7.6"
  }
 },
 "nbformat": 4,
 "nbformat_minor": 0
}
